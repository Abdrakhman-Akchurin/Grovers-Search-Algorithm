{
 "cells": [
  {
   "cell_type": "markdown",
   "metadata": {},
   "source": [
    "# Grover's Search Algorithm"
   ]
  },
  {
   "cell_type": "markdown",
   "metadata": {},
   "source": [
    "Grover’s Search Algorithm is one of the most well-known quantum algorithms, offering a quadratic speedup over classical search algorithms for unstructured databases. It was developed by Lov Grover in 1996 and demonstrates how quantum algorithms can significantly outperform classical algorithms in certain tasks."
   ]
  },
  {
   "cell_type": "markdown",
   "metadata": {},
   "source": [
    "### Problem Overview:\n",
    " - Unstructured Database Search: Suppose you have an unstructured database of N items and you want to find a specific item.\n",
    "\n",
    " - In classical search algorithms, you would need to check each item one by one, and on average, you would expect to make N/2 queries to find the item.\n",
    "\n",
    " - In the worst case, you would have to check all N items. This leads to a time complexity of O(N).\n",
    "\n",
    " - Grover’s Algorithm solves the same problem with only O(N) queries, providing a quadratic speedup compared to the classical approach."
   ]
  },
  {
   "cell_type": "markdown",
   "metadata": {},
   "source": [
    "### Steps in Grover's Algorithm:\n",
    "1. Initialization:\n",
    "\n",
    "    - Prepare the initial state as an equal superposition of all basis states.\n",
    "    - This is done by applying Hadamard gates to each qubit in the register.\n",
    "2. Oracle Application:\n",
    "\n",
    "    - Apply the oracle to mark the correct item by flipping the amplitude of the corresponding state.\n",
    "3. Grover Diffusion:\n",
    "\n",
    "    - Apply the Grover diffusion operator to amplify the amplitude of the correct state.\n",
    "4. Repeat:\n",
    "\n",
    "    - Repeat the oracle and diffusion operations O(N) times to maximize the probability of measuring the correct item.\n",
    "5. Measurement:\n",
    "\n",
    "    - Measure the quantum state to find the correct item with high probability."
   ]
  },
  {
   "cell_type": "markdown",
   "metadata": {},
   "source": [
    "### Time Complexity:\n",
    " - Classical Search: O(N) operations.\n",
    " - Grover’s Search: O(N) operations.\n",
    "This quadratic speedup makes Grover’s algorithm significantly faster than any classical algorithm for unstructured search, especially when N is large."
   ]
  },
  {
   "cell_type": "markdown",
   "metadata": {},
   "source": [
    "### Advantages and Limitations:\n",
    " - Advantages: Grover’s algorithm offers a quadratic speedup over classical search algorithms, making it more efficient for large databases.\n",
    " - Limitations: It only provides a quadratic speedup, not an exponential one. Furthermore, Grover’s algorithm requires a precisely defined oracle, which may be challenging to implement for certain real-world problems."
   ]
  },
  {
   "cell_type": "markdown",
   "metadata": {},
   "source": [
    "### Implementation:"
   ]
  },
  {
   "cell_type": "markdown",
   "metadata": {},
   "source": [
    "We’ll use Qiskit to build a quantum circuit that implements Grover's algorithm for a small search space (e.g., 4 items)."
   ]
  },
  {
   "cell_type": "code",
   "execution_count": 7,
   "metadata": {},
   "outputs": [
    {
     "name": "stdout",
     "output_type": "stream",
     "text": [
      "Counts: {'11': 1024}\n"
     ]
    },
    {
     "data": {
      "image/png": "[encoded data removed]",
      "text/plain": [
       "<Figure size 640x480 with 1 Axes>"
      ]
     },
     "execution_count": 7,
     "metadata": {},
     "output_type": "execute_result"
    }
   ],
   "source": [
    "# Import necessary modules\n",
    "from qiskit import QuantumCircuit, transpile\n",
    "from qiskit.visualization import plot_histogram\n",
    "from qiskit_aer import AerSimulator\n",
    "\n",
    "# Step 1: Define the Oracle for Grover's Algorithm\n",
    "def grover_oracle(n_qubits, marked_state):\n",
    "    \"\"\"\n",
    "    Create an oracle that flips the phase of the marked_state.\n",
    "    n_qubits: Number of qubits\n",
    "    marked_state: The bitstring of the state to mark (e.g., '11' for |11>)\n",
    "    \"\"\"\n",
    "    oracle = QuantumCircuit(n_qubits)\n",
    "    \n",
    "    # Mark the target state by flipping its phase\n",
    "    for i, bit in enumerate(reversed(marked_state)):\n",
    "        if bit == '0':\n",
    "            oracle.x(i)\n",
    "    \n",
    "    oracle.h(n_qubits - 1)\n",
    "    oracle.mcx(list(range(n_qubits - 1)), n_qubits - 1)  # Controlled-Z gate (multi-controlled)\n",
    "    oracle.h(n_qubits - 1)\n",
    "    \n",
    "    for i, bit in enumerate(reversed(marked_state)):\n",
    "        if bit == '0':\n",
    "            oracle.x(i)\n",
    "    \n",
    "    oracle.name = \"Oracle\"\n",
    "    return oracle\n",
    "\n",
    "# Step 2: Define the Diffusion Operator\n",
    "def diffusion_operator(n_qubits):\n",
    "    \"\"\"\n",
    "    Create the Grover diffusion operator (inversion about the mean).\n",
    "    \"\"\"\n",
    "    diffusion = QuantumCircuit(n_qubits)\n",
    "    \n",
    "    # Apply Hadamard to all qubits\n",
    "    diffusion.h(range(n_qubits))\n",
    "    \n",
    "    # Apply X gates to all qubits\n",
    "    diffusion.x(range(n_qubits))\n",
    "    \n",
    "    # Apply multi-controlled Z gate\n",
    "    diffusion.h(n_qubits - 1)\n",
    "    diffusion.mcx(list(range(n_qubits - 1)), n_qubits - 1)  # Multi-controlled Z gate\n",
    "    diffusion.h(n_qubits - 1)\n",
    "    \n",
    "    # Apply X gates to all qubits\n",
    "    diffusion.x(range(n_qubits))\n",
    "    \n",
    "    # Apply Hadamard to all qubits\n",
    "    diffusion.h(range(n_qubits))\n",
    "    \n",
    "    diffusion.name = \"Diffusion\"\n",
    "    return diffusion\n",
    "\n",
    "# Step 3: Implement Grover's Search Algorithm\n",
    "def grovers_search(n_qubits, marked_state, num_iterations):\n",
    "    \"\"\"\n",
    "    Implement Grover's algorithm with the specified number of iterations.\n",
    "    n_qubits: Number of qubits\n",
    "    marked_state: The bitstring of the marked state\n",
    "    num_iterations: Number of Grover iterations to perform\n",
    "    \"\"\"\n",
    "    # Create a quantum circuit with n_qubits\n",
    "    grover_circuit = QuantumCircuit(n_qubits, n_qubits)\n",
    "    \n",
    "    # Step 1: Initialize the qubits in superposition using Hadamard gates\n",
    "    grover_circuit.h(range(n_qubits))\n",
    "    \n",
    "    # Step 2: Apply Grover's algorithm for the specified number of iterations\n",
    "    for _ in range(num_iterations):\n",
    "        # Apply the oracle\n",
    "        oracle = grover_oracle(n_qubits, marked_state)\n",
    "        grover_circuit.append(oracle, range(n_qubits))\n",
    "        \n",
    "        # Apply the diffusion operator\n",
    "        diffusion = diffusion_operator(n_qubits)\n",
    "        grover_circuit.append(diffusion, range(n_qubits))\n",
    "    \n",
    "    # Step 3: Measure the result\n",
    "    grover_circuit.measure(range(n_qubits), range(n_qubits))\n",
    "    \n",
    "    return grover_circuit\n",
    "\n",
    "# Step 4: Execute Grover's Algorithm\n",
    "def run_grovers_search(n_qubits, marked_state, num_iterations):\n",
    "    \"\"\"\n",
    "    Run Grover's search algorithm and display the results.\n",
    "    n_qubits: Number of qubits\n",
    "    marked_state: The bitstring of the marked state\n",
    "    num_iterations: Number of Grover iterations to perform\n",
    "    \"\"\"\n",
    "    # Create the Grover circuit\n",
    "    grover_circuit = grovers_search(n_qubits, marked_state, num_iterations)\n",
    "    \n",
    "    # Use Aer's qasm_simulator\n",
    "    simulator = AerSimulator()\n",
    "    \n",
    "    # Transpile the circuit for the simulator\n",
    "    transpiled_circuit = transpile(grover_circuit, simulator)\n",
    "    \n",
    "    # Execute the circuit on the simulator\n",
    "    result = simulator.run(transpiled_circuit, backend=simulator, shots=1024).result()\n",
    "    \n",
    "    # Get the counts (how many times each state was measured)\n",
    "    counts = result.get_counts(grover_circuit)\n",
    "    \n",
    "    return counts\n",
    "\n",
    "# Example Usage:\n",
    "n_qubits = 2  # For a small database with 4 items\n",
    "marked_state = '11'  # We want to find the state |11>\n",
    "num_iterations = 1  # One iteration of Grover's algorithm\n",
    "\n",
    "# Run Grover's Search\n",
    "counts = run_grovers_search(n_qubits, marked_state, num_iterations)\n",
    "\n",
    "# Plot the results\n",
    "print(f\"Counts: {counts}\")\n",
    "plot_histogram(counts)"
   ]
  },
  {
   "cell_type": "markdown",
   "metadata": {},
   "source": [
    "### Conclusion\n",
    "\n",
    "- The output shows that Grover's algorithm successfully amplified the probability of the marked state ∣11⟩, so that when we measure the qubits, we observe the state '11' every single time.\n",
    "- Since all 1024 shots resulted in the state '11', it means the algorithm correctly identified the marked state with 100% probability."
   ]
  },
  {
   "cell_type": "markdown",
   "metadata": {},
   "source": [
    "## Real-World Application: Searching for a Specific Pattern in Binary Data"
   ]
  },
  {
   "cell_type": "markdown",
   "metadata": {},
   "source": [
    "In this example, we'll imagine we have a database of binary data representing files or records, and we want to search for a specific pattern in this binary data. Classical algorithms would require examining each record one by one, but Grover’s algorithm allows us to search the database faster."
   ]
  },
  {
   "cell_type": "markdown",
   "metadata": {},
   "source": [
    "#### Problem Setup:\n",
    "- Binary Data: We'll assume our data is represented as binary strings, e.g., '0101', '1100', '0110', etc.\n",
    "- Target Pattern: We will define a target pattern that we are searching for, e.g., '1100'.\n",
    "- Database Representation: In this case, we’ll encode each binary string into a quantum state and use Grover’s algorithm to amplify the amplitude of the state that corresponds to the target pattern."
   ]
  },
  {
   "cell_type": "markdown",
   "metadata": {},
   "source": [
    "There are 16 possible 4-bit strings, so we will use 4 qubits to represent the data."
   ]
  },
  {
   "cell_type": "markdown",
   "metadata": {},
   "source": [
    "#### Implementation: "
   ]
  },
  {
   "cell_type": "code",
   "execution_count": 6,
   "metadata": {},
   "outputs": [
    {
     "name": "stdout",
     "output_type": "stream",
     "text": [
      "Counts: {'1100': 948, '1111': 2, '0110': 8, '1011': 6, '0100': 6, '0000': 8, '0111': 4, '0101': 3, '1010': 12, '0010': 6, '1000': 6, '0011': 4, '0001': 7, '1110': 2, '1001': 1, '1101': 1}\n"
     ]
    },
    {
     "data": {
      "image/png": "[encoded data removed]",
      "text/plain": [
       "<Figure size 640x480 with 1 Axes>"
      ]
     },
     "execution_count": 6,
     "metadata": {},
     "output_type": "execute_result"
    }
   ],
   "source": [
    "# Import necessary modules\n",
    "from qiskit import QuantumCircuit, transpile\n",
    "from qiskit.visualization import plot_histogram\n",
    "from qiskit_aer import AerSimulator\n",
    "\n",
    "# Step 1: Define the Oracle for Grover's Algorithm\n",
    "def grover_oracle(n_qubits, marked_state):\n",
    "    \"\"\"\n",
    "    Create an oracle that flips the phase of the marked_state.\n",
    "    n_qubits: Number of qubits\n",
    "    marked_state: The bitstring of the state to mark (e.g., '1100' for |1100>)\n",
    "    \"\"\"\n",
    "    oracle = QuantumCircuit(n_qubits)\n",
    "    \n",
    "    # Mark the target state by flipping its phase\n",
    "    for i, bit in enumerate(reversed(marked_state)):\n",
    "        if bit == '0':\n",
    "            oracle.x(i)\n",
    "    \n",
    "    oracle.h(n_qubits - 1)\n",
    "    oracle.mcx(list(range(n_qubits - 1)), n_qubits - 1)  # Multi-controlled X\n",
    "    oracle.h(n_qubits - 1)\n",
    "    \n",
    "    for i, bit in enumerate(reversed(marked_state)):\n",
    "        if bit == '0':\n",
    "            oracle.x(i)\n",
    "    \n",
    "    oracle.name = \"Oracle\"\n",
    "    return oracle\n",
    "\n",
    "# Step 2: Define the Diffusion Operator\n",
    "def diffusion_operator(n_qubits):\n",
    "    \"\"\"\n",
    "    Create the Grover diffusion operator (inversion about the mean).\n",
    "    \"\"\"\n",
    "    diffusion = QuantumCircuit(n_qubits)\n",
    "    \n",
    "    # Apply Hadamard to all qubits\n",
    "    diffusion.h(range(n_qubits))\n",
    "    \n",
    "    # Apply X gates to all qubits\n",
    "    diffusion.x(range(n_qubits))\n",
    "    \n",
    "    # Apply multi-controlled Z gate\n",
    "    diffusion.h(n_qubits - 1)\n",
    "    diffusion.mcx(list(range(n_qubits - 1)), n_qubits - 1)  # Multi-controlled X\n",
    "    diffusion.h(n_qubits - 1)\n",
    "    \n",
    "    # Apply X gates to all qubits\n",
    "    diffusion.x(range(n_qubits))\n",
    "    \n",
    "    # Apply Hadamard to all qubits\n",
    "    diffusion.h(range(n_qubits))\n",
    "    \n",
    "    diffusion.name = \"Diffusion\"\n",
    "    return diffusion\n",
    "\n",
    "# Step 3: Implement Grover's Search Algorithm\n",
    "def grovers_search(n_qubits, marked_state, num_iterations):\n",
    "    \"\"\"\n",
    "    Implement Grover's algorithm with the specified number of iterations.\n",
    "    n_qubits: Number of qubits\n",
    "    marked_state: The bitstring of the marked state\n",
    "    num_iterations: Number of Grover iterations to perform\n",
    "    \"\"\"\n",
    "    # Create a quantum circuit with n_qubits\n",
    "    grover_circuit = QuantumCircuit(n_qubits, n_qubits)\n",
    "    \n",
    "    # Step 1: Initialize the qubits in superposition using Hadamard gates\n",
    "    grover_circuit.h(range(n_qubits))\n",
    "    \n",
    "    # Step 2: Apply Grover's algorithm for the specified number of iterations\n",
    "    for _ in range(num_iterations):\n",
    "        # Apply the oracle\n",
    "        oracle = grover_oracle(n_qubits, marked_state)\n",
    "        grover_circuit.append(oracle, range(n_qubits))\n",
    "        \n",
    "        # Apply the diffusion operator\n",
    "        diffusion = diffusion_operator(n_qubits)\n",
    "        grover_circuit.append(diffusion, range(n_qubits))\n",
    "    \n",
    "    # Step 3: Measure the result\n",
    "    grover_circuit.measure(range(n_qubits), range(n_qubits))\n",
    "    \n",
    "    return grover_circuit\n",
    "\n",
    "# Step 4: Execute Grover's Algorithm\n",
    "def run_grovers_search(n_qubits, marked_state, num_iterations):\n",
    "    \"\"\"\n",
    "    Run Grover's search algorithm and display the results.\n",
    "    n_qubits: Number of qubits\n",
    "    marked_state: The bitstring of the marked state\n",
    "    num_iterations: Number of Grover iterations to perform\n",
    "    \"\"\"\n",
    "    # Create the Grover circuit\n",
    "    grover_circuit = grovers_search(n_qubits, marked_state, num_iterations)\n",
    "    \n",
    "    # Use Aer's qasm_simulator\n",
    "    simulator = AerSimulator()\n",
    "    \n",
    "    # Transpile the circuit for the simulator\n",
    "    transpiled_circuit = transpile(grover_circuit, simulator)\n",
    "    \n",
    "    # Execute the circuit on the simulator\n",
    "    result = simulator.run(transpiled_circuit, shots=1024).result()\n",
    "    \n",
    "    # Get the counts (how many times each state was measured)\n",
    "    counts = result.get_counts(grover_circuit)\n",
    "    return counts\n",
    "\n",
    "# Example Usage:\n",
    "n_qubits = 4  # For a 16-item database (2^4 = 16)\n",
    "marked_state = '1100'  # We want to find the state |1100>\n",
    "num_iterations = 2  # Number of Grover iterations (optimal for 4 qubits is ~2)\n",
    "\n",
    "# Run Grover's Search\n",
    "counts = run_grovers_search(n_qubits, marked_state, num_iterations)\n",
    "\n",
    "# Plot the results\n",
    "print(f\"Counts: {counts}\")\n",
    "plot_histogram(counts)\n"
   ]
  },
  {
   "cell_type": "markdown",
   "metadata": {},
   "source": [
    "This implementation demonstrates how Grover’s search can be applied to a real-world problem of pattern matching in binary data, providing quantum speedup for unstructured search problems. Let me know if you'd like to dive deeper into more complex or larger datasets!"
   ]
  }
 ],
 "metadata": {
  "kernelspec": {
   "display_name": "base",
   "language": "python",
   "name": "python3"
  },
  "language_info": {
   "codemirror_mode": {
    "name": "ipython",
    "version": 3
   },
   "file_extension": ".py",
   "mimetype": "text/x-python",
   "name": "python",
   "nbconvert_exporter": "python",
   "pygments_lexer": "ipython3",
   "version": "3.12.4"
  }
 },
 "nbformat": 4,
 "nbformat_minor": 2
}
